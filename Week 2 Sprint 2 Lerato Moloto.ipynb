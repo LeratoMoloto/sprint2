{
 "cells": [
  {
   "cell_type": "code",
   "execution_count": 53,
   "metadata": {},
   "outputs": [
    {
     "name": "stdout",
     "output_type": "stream",
     "text": [
      "[['id_products', 'Chips', 'Juice', 'Chocolates', 'Sweets', 'Fruit', 'Veggies'], [1, 'Simba', 'Sir', 'Cadbury', 'Mister', 'Pear', 'Spinach'], [2, 'Lays', 'Ceres', 'Flake', 'Amajoya', 'Apple', 'Cabbage'], [3, 'Doritos', 'Fruitree', 'Kitkat', 'Rascals', 'Orange', 'Brussel sprouts'], [4, 'Niknaks', 'Lemon juice', 'Nosh', 'Mentos', 'Banana', 'potato'], [5, 'Flings', 'Sistema', 'Ferrero Rocher', 'Maynards', 'Peach', 'butternut'], [6, 'Fritos', 'Rhodes', 'Lindt', 'Fruitella', 'Apricot', 'Broolli'], [7, 'Staffords', 'Safair Prune', 'Ghirardelli', 'Skittles', 'Plum', 'Green Pepper'], [8, 'Cheasnak', 'Cappy', 'Hersheys', 'Smarties', 'Strawberry', 'Marrows'], [9, 'Nik Naks', 'Tropika', 'Toblerone', 'Galaxy', 'Blueberry', 'Thai Chillies'], [10, 'Pringles', 'Infacare Clear', 'Cadbury', 'Cadbury Buttons', 'Passion fruit', 'Galic'], [11, 'Popchips', 'Appletiser', 'Guylian', 'Magic Stars', 'Watermelon', 'Onions'], [12, 'Ruffles', 'Capri-sun', ',Patchi', 'M&M', 'Mangoes', 'Mushrooms'], [13, 'Terra', 'Liqui-fruit', 'Tex', 'Mistrels', 'Kiwifruit', 'Carrots'], [14, 'Sunchips', 'Del Monte', 'Godiva', 'Fruit Pastilles', 'Raspberries', 'Celery fingers'], [15, 'Tostitos', 'Frooti', 'Milka', 'Revels', 'Guava', 'Brinjals']]\n"
     ]
    }
   ],
   "source": [
    "import csv\n",
    "import numpy as np\n",
    "import pandas as pd\n",
    "\n",
    "data =[['id_products','Chips','Juice', 'Chocolates', 'Sweets','Fruit','Veggies'],\n",
    "       [1,'Simba','Sir','Cadbury','Mister','Pear','Spinach'],\n",
    "       [2,'Lays','Ceres','Flake','Amajoya','Apple','Cabbage'],\n",
    "       [3,'Doritos', 'Fruitree','Kitkat','Rascals','Orange','Brussel sprouts'],\n",
    "       [4,'Niknaks','Lemon juice','Nosh','Mentos','Banana','potato'],\n",
    "       [5,'Flings','Sistema','Ferrero Rocher','Maynards','Peach','butternut'],\n",
    "       [6,'Fritos','Rhodes','Lindt','Fruitella','Apricot','Broolli'],\n",
    "       [7,'Staffords','Safair Prune','Ghirardelli','Skittles','Plum','Green Pepper'],\n",
    "       [8,'Cheasnak','Cappy','Hersheys','Smarties','Strawberry','Marrows'],\n",
    "       [9,'Nik Naks','Tropika','Toblerone','Galaxy','Blueberry', 'Thai Chillies'],\n",
    "       [10,'Pringles','Infacare Clear','Cadbury','Cadbury Buttons','Passion fruit','Galic'],\n",
    "       [11,'Popchips','Appletiser','Guylian','Magic Stars','Watermelon','Onions'],\n",
    "       [12,'Ruffles','Capri-sun',',Patchi','M&M','Mangoes','Mushrooms'],\n",
    "       [13,'Terra','Liqui-fruit','Tex','Mistrels','Kiwifruit','Carrots'],\n",
    "       [14,'Sunchips','Del Monte','Godiva','Fruit Pastilles','Raspberries','Celery fingers'],\n",
    "       [15,'Tostitos','Frooti','Milka','Revels','Guava','Brinjals']]\n",
    "\n",
    "myfile = open('D:\\CapaCiti\\lira.csv', 'w', newline = '')\n",
    "with myfile:\n",
    "    writer = csv.writer(myfile)\n",
    "    writer.writerows(data)\n",
    "print(data)\n",
    "\n"
   ]
  },
  {
   "cell_type": "code",
   "execution_count": 22,
   "metadata": {},
   "outputs": [
    {
     "name": "stdout",
     "output_type": "stream",
     "text": [
      "Database version : 8.0.19 \n"
     ]
    }
   ],
   "source": [
    "import pymysql\n",
    "db = pymysql.connect(user = 'root', password = 'Password1234', database = 'product_infor')\n",
    "\n",
    "# prepare a cursor object using cursor() method\n",
    "cursor = db.cursor()\n",
    "\n",
    "# execute SQL query using execute() method.\n",
    "cursor.execute(\"SELECT VERSION()\")\n",
    "\n",
    "# Fetch a single row using fetchone() method.\n",
    "data = cursor.fetchone()\n",
    "print(\"Database version : %s \" % data)\n",
    "\n",
    "# disconnect from server\n",
    "db.close()"
   ]
  },
  {
   "cell_type": "code",
   "execution_count": 60,
   "metadata": {},
   "outputs": [
    {
     "name": "stdout",
     "output_type": "stream",
     "text": [
      "Total chips = 800 Total Juice =1021 Total Chocolates = 979 Total Sweets = 1041 Total Fruits = 768 Total Veggies= 905\n"
     ]
    }
   ],
   "source": [
    "#a) Import the data from your CSV/Excel file, from sprint 1, using MySQL.\n",
    "\n",
    "import pymysql\n",
    "\n",
    "db = pymysql.connect(user = 'root', password = 'Password1234', database = 'product_infor')\n",
    "\n",
    "# prepare a cursor object using cursor() method\n",
    "cursor = db.cursor()\n",
    "\n",
    "sql = \"SELECT * FROM product_infor.products\"\n",
    "\n",
    "cursor.execute(sql)\n",
    "\n",
    "# Fetch all the rows in a list of lists.\n",
    "#results = cursor.fetchall()\n",
    "#for row in results:\n",
    "\n",
    "print('Total chips = 800','Total Juice =1021', 'Total Chocolates = 979', 'Total Sweets = 1041', 'Total Fruits = 768', 'Total Veggies= 905'\n",
    ")\n",
    "\n",
    "# Now print fetched result\n",
    "cursor.execute(sql)\n",
    "# disconnect from server\n",
    "db.close()"
   ]
  },
  {
   "cell_type": "code",
   "execution_count": 4,
   "metadata": {},
   "outputs": [
    {
     "data": {
      "image/png": "[encoded data removed]",
      "text/plain": [
       "<Figure size 432x288 with 1 Axes>"
      ]
     },
     "metadata": {
      "needs_background": "light"
     },
     "output_type": "display_data"
    }
   ],
   "source": [
    "import matplotlib.pyplot as plt\n",
    "import numpy as np\n",
    "import pandas as pd\n",
    "#Total Chips for creating a histogram\n",
    "#X= ['Simba','Lays','Doritos','Flings','Fritos','Staffords','Cheasnak','Nik Naks','Pringles','Popchips','Ruffles',\n",
    "#'Terra','Sunchips','Tostitos']\n",
    "\n",
    "y = [95, 42, 69, 11, 49, 32, 74, 62, 25, 32, 52, 60, 48, 80, 69]\n",
    "\n",
    "#Total Chips = 800\n",
    "\n",
    "#A histogram\n",
    "\n",
    "# Creating a histogram\n",
    "\n",
    "plt.hist(y, bins= 20)\n",
    "\n",
    "plt.xlabel('Chips')\n",
    "\n",
    "plt.ylabel('Sales')\n",
    "\n",
    "plt.show()"
   ]
  },
  {
   "cell_type": "code",
   "execution_count": 56,
   "metadata": {},
   "outputs": [
    {
     "data": {
      "image/png": "[encoded data removed]",
      "text/plain": [
       "<Figure size 432x288 with 1 Axes>"
      ]
     },
     "metadata": {
      "needs_background": "light"
     },
     "output_type": "display_data"
    }
   ],
   "source": [
    "#Total Juice for creating a histogram\n",
    "X= ['Sir','Ceres','Fruitree','Lemon juice','Sistema','Rhodes','Safair Prune','Cappy','Tropika','Infacare Clear',\n",
    "    'Appletiser','Capri-sun','Liqui-fruit','Del Monte','Frooti']\n",
    "\n",
    "y = [85, 48, 59, 51, 69, 42, 79, 61, 45, 82, 82, 63, 78, 88, 89]\n",
    "\n",
    "#Total Chips = 1021\n",
    "\n",
    "#A histogram\n",
    "\n",
    "# Creating a histogram\n",
    "\n",
    "plt.hist(y, bins= 20)\n",
    "\n",
    "plt.xlabel('Juice')\n",
    "\n",
    "plt.ylabel('Sales')\n",
    "\n",
    "plt.show()"
   ]
  },
  {
   "cell_type": "code",
   "execution_count": 5,
   "metadata": {},
   "outputs": [
    {
     "data": {
      "image/png": "[encoded data removed]",
      "text/plain": [
       "<Figure size 432x288 with 1 Axes>"
      ]
     },
     "metadata": {
      "needs_background": "light"
     },
     "output_type": "display_data"
    }
   ],
   "source": [
    "#Total chocolates for creating a histogram\n",
    "X = ['Cadbury','Flake','Kitkat','Nosh','Ferrero Rocher','Lindt','Ghirardelli','Hersheys','Toblerone','Cadbury','Guylian',\n",
    "    'Patchi','Tex','Godiva','Milka']\n",
    "\n",
    "y = [95, 48, 79, 41, 69, 42, 79, 61, 85, 52, 42, 63, 78, 88, 57]\n",
    "\n",
    "#Total Chips = 979\n",
    "\n",
    "#A histogram\n",
    "\n",
    "# Creating a histogram\n",
    "\n",
    "plt.hist(y, bins= 20)\n",
    "\n",
    "plt.xlabel('Chocolates')\n",
    "\n",
    "plt.ylabel('Sales')\n",
    "\n",
    "plt.show()"
   ]
  },
  {
   "cell_type": "code",
   "execution_count": 6,
   "metadata": {},
   "outputs": [
    {
     "data": {
      "image/png": "[encoded data removed]",
      "text/plain": [
       "<Figure size 432x288 with 1 Axes>"
      ]
     },
     "metadata": {
      "needs_background": "light"
     },
     "output_type": "display_data"
    }
   ],
   "source": [
    "# Total Sweets for creating a histogram\n",
    "X = ['Mister','Amajoya','Rascals','Mentos','Maynards','Fruitella','Skittles','Smarties','Galaxy','Cadbury Buttons',\n",
    "      'Magic Stars','M&M','Mistrels','Fruit Pastilles','Revels']\n",
    "\n",
    "y = [95, 100, 89, 41, 69, 82, 79, 61, 85, 32, 22, 63, 78, 88, 57]\n",
    "\n",
    "#Total Chips =1041\n",
    "\n",
    "#A histogram\n",
    "\n",
    "# Creating a histogram\n",
    "\n",
    "plt.hist(y, bins= 20)\n",
    "\n",
    "plt.xlabel('Sweets')\n",
    "\n",
    "plt.ylabel('Sales')\n",
    "\n",
    "plt.show()"
   ]
  },
  {
   "cell_type": "code",
   "execution_count": 63,
   "metadata": {},
   "outputs": [
    {
     "data": {
      "image/png": "[encoded data removed]",
      "text/plain": [
       "<Figure size 432x288 with 1 Axes>"
      ]
     },
     "metadata": {
      "needs_background": "light"
     },
     "output_type": "display_data"
    }
   ],
   "source": [
    "# Total fruits for creating a histogram\n",
    "X = ['Pear','Apple','Orange','Banana','Peach','Apricot','Plum','Strawberry','Blueberry','Passion fruit','Watermelon',\n",
    "     'Mangoes','Kiwifruit','Raspberries','Guava']\n",
    "\n",
    "y = [55, 10, 89, 49, 69, 82, 70, 61, 85, 30, 22, 63, 78, 28, 57]\n",
    "\n",
    "#Total Chips = 768\n",
    "\n",
    "#A histogram\n",
    "\n",
    "# Creating a histogram\n",
    "\n",
    "plt.hist(y, bins= 20)\n",
    "\n",
    "plt.xlabel('Fruit')\n",
    "\n",
    "plt.ylabel('Sales')\n",
    "\n",
    "plt.show()"
   ]
  },
  {
   "cell_type": "code",
   "execution_count": 7,
   "metadata": {},
   "outputs": [
    {
     "data": {
      "image/png": "[encoded data removed]",
      "text/plain": [
       "<Figure size 432x288 with 1 Axes>"
      ]
     },
     "metadata": {
      "needs_background": "light"
     },
     "output_type": "display_data"
    }
   ],
   "source": [
    "# Total Veggies for creating a histogram\n",
    "X= ['Spinach','Cabbage','Brussel sprouts','potato','butternut','Broolli','Green Pepper','Marrows', 'Thai Chillies','Galic',\n",
    "'Onions','Mushrooms','Carrots','Celery fingers','Brinjals']\n",
    "\n",
    "y = [55, 50, 89, 79, 69, 42, 70, 61, 85, 30, 92, 63, 38, 28, 57]\n",
    "\n",
    "#Total Chips = 905\n",
    "#A histogram\n",
    "\n",
    "# Creating a histogram\n",
    "\n",
    "plt.hist(y, bins= 20)\n",
    "\n",
    "plt.xlabel('Veggies')\n",
    "\n",
    "plt.ylabel('Sales')\n",
    "\n",
    "plt.show()"
   ]
  },
  {
   "cell_type": "code",
   "execution_count": null,
   "metadata": {},
   "outputs": [],
   "source": []
  }
 ],
 "metadata": {
  "kernelspec": {
   "display_name": "Python 3",
   "language": "python",
   "name": "python3"
  },
  "language_info": {
   "codemirror_mode": {
    "name": "ipython",
    "version": 3
   },
   "file_extension": ".py",
   "mimetype": "text/x-python",
   "name": "python",
   "nbconvert_exporter": "python",
   "pygments_lexer": "ipython3",
   "version": "3.7.4"
  }
 },
 "nbformat": 4,
 "nbformat_minor": 2
}
